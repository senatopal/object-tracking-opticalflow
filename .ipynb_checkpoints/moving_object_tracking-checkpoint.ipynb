{
 "cells": [
  {
   "cell_type": "code",
   "execution_count": 9,
   "id": "62eab0d6-a7c2-4cab-b7b7-a3039939edf6",
   "metadata": {},
   "outputs": [],
   "source": [
    "import numpy as np\n",
    "import cv2\n",
    "import math"
   ]
  },
  {
   "cell_type": "code",
   "execution_count": 23,
   "id": "0ed62b17-5f8b-411c-8637-e638d776e068",
   "metadata": {},
   "outputs": [],
   "source": [
    "feature_params = dict(maxCorners=10,qualityLevel=0.5,minDistance=7,blockSize=7)\n",
    "lk_params= dict(winSize=(15,15),maxLevel=2,criteria=(cv2.TERM_CRITERIA_EPS | cv2.TERM_CRITERIA_COUNT,10,0.03))\n",
    "\n",
    "font=cv2.FONT_HERSHEY_SIMPLEX\n"
   ]
  },
  {
   "cell_type": "code",
   "execution_count": 29,
   "id": "7e9d7b8c-d82b-4e0a-b538-132bc488ba2e",
   "metadata": {},
   "outputs": [],
   "source": [
    "cap=cv2.VideoCapture('basketball.mp4')\n",
    "ret,prevFrame=cap.read()\n",
    "prev_gray=cv2.cvtColor(prevFrame,cv2.COLOR_BGR2GRAY)\n",
    "prevPts=cv2.goodFeaturesToTrack(prev_gray,mask=None,**feature_params)\n",
    "mask=np.zeros_like(prevFrame)\n",
    "counter=0\n",
    "speed=0\n",
    "\n",
    "fps = cap.get(cv2.CAP_PROP_FPS)\n",
    "frame_time = 1 / fps\n",
    "\n",
    "while True:\n",
    "    ret,frame=cap.read()\n",
    "\n",
    "    if not ret:\n",
    "        break\n",
    "    frame_gray=cv2.cvtColor(frame,cv2.COLOR_BGR2GRAY)\n",
    "    newPts,status,err=cv2.calcOpticalFlowPyrLK(prev_gray,frame_gray,prevPts,None,**lk_params)\n",
    "\n",
    "    if newPts is not None:\n",
    "        good_new=newPts[status==1]\n",
    "        good_old=prevPts[status==1]\n",
    "\n",
    "        for new,old in zip(good_new,good_old):\n",
    "            x_new,y_new=new.ravel()\n",
    "            x_old,y_old=old.ravel()\n",
    "\n",
    "            distance=math.sqrt(abs(x_new-x_old)**2+abs(y_new-y_old)**2)\n",
    "\n",
    "            if distance >= 20:\n",
    "                counter+=1\n",
    "                speed=distance/frame_time\n",
    "                mask = np.zeros_like(frame)  \n",
    "\n",
    "            mask = cv2.line(mask, (int(x_new), int(y_new)), (int(x_old), int(y_old)), (0, 255, 0), 2)\n",
    "            frame = cv2.circle(frame, (int(x_new), int(y_new)), 5, (0, 0, 255), -1)\n",
    "        frame=cv2.add(frame,mask)\n",
    "        cv2.putText(frame, f'Count: {counter}', (10, 50), font, 1, (0, 255, 255), 2)\n",
    "        cv2.putText(frame, f'speed: {speed}', (10, 80), font, 1, (0, 255, 255), 1) #px/second\n",
    "\n",
    "\n",
    "        cv2.imshow(\"Tracker\", frame)\n",
    "\n",
    "        key = cv2.waitKey(20) & 0xFF\n",
    "        if key == 27:\n",
    "            break\n",
    "\n",
    "        prev_gray=frame_gray\n",
    "        prevPts = good_new.reshape(-1, 1, 2)\n",
    "\n",
    "cap.release()\n",
    "cv2.destroyAllWindows()"
   ]
  },
  {
   "cell_type": "code",
   "execution_count": null,
   "id": "6bc7b2b6-e541-48b1-b254-d6c4e2546629",
   "metadata": {},
   "outputs": [],
   "source": []
  }
 ],
 "metadata": {
  "kernelspec": {
   "display_name": "Python 3 (ipykernel)",
   "language": "python",
   "name": "python3"
  },
  "language_info": {
   "codemirror_mode": {
    "name": "ipython",
    "version": 3
   },
   "file_extension": ".py",
   "mimetype": "text/x-python",
   "name": "python",
   "nbconvert_exporter": "python",
   "pygments_lexer": "ipython3",
   "version": "3.12.3"
  }
 },
 "nbformat": 4,
 "nbformat_minor": 5
}
