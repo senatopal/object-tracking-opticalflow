{
 "cells": [
  {
   "cell_type": "code",
   "execution_count": 3,
   "id": "00fb8433-8097-4c7a-b6df-e0732c9e42f6",
   "metadata": {},
   "outputs": [],
   "source": [
    "import cv2\n",
    "import numpy as np\n",
    "from ultralytics import YOLO\n",
    "import matplotlib as plt"
   ]
  },
  {
   "cell_type": "code",
   "execution_count": 5,
   "id": "0d33bde2-d8f7-424f-80c7-f6dbe6997112",
   "metadata": {},
   "outputs": [],
   "source": [
    "lk_params=dict(winSize=(15,15),maxLevel=2,criteria=(cv2.TERM_CRITERIA_EPS | cv2.TERM_CRITERIA_COUNT,10,0.03))\n",
    "\n",
    "people_counter=0\n",
    "line_y=250\n",
    "font=cv2.FONT_HERSHEY_SIMPLEX\n"
   ]
  },
  {
   "cell_type": "code",
   "execution_count": 7,
   "id": "e28faee2-ef7f-4238-a0da-8db4b96959f9",
   "metadata": {},
   "outputs": [
    {
     "name": "stdout",
     "output_type": "stream",
     "text": [
      " The frame could not get!\n"
     ]
    }
   ],
   "source": [
    "cap= cv2.VideoCapture('v1.mp4')\n",
    "ret,frame=cap.read()\n",
    "prev_gray=cv2.cvtColor(frame,cv2.COLOR_BGR2GRAY)\n",
    "\n",
    "feature_params=dict(maxCorners=100,qualityLevel=0.3,minDistance=7,blockSize=7)\n",
    "prevPts=cv2.goodFeaturesToTrack(prev_gray,mask=None,**feature_params)\n",
    "\n",
    "mask=np.zeros_like(frame)\n",
    "\n",
    "while True:\n",
    "    ret, frame = cap.read()\n",
    "    if not ret or frame is None:\n",
    "        print(\"The frame could not get!\")\n",
    "        break  \n",
    "\n",
    "    gray = cv2.cvtColor(frame, cv2.COLOR_BGR2GRAY)\n",
    "\n",
    "    newPts, status, _ = cv2.calcOpticalFlowPyrLK(prev_gray, gray, prevPts, None, **lk_params)\n",
    "\n",
    "    if newPts is not None:\n",
    "        good_new = newPts[status == 1]\n",
    "        good_old = prevPts[status == 1]\n",
    "\n",
    "        for new, old in zip(good_new, good_old):\n",
    "            x_new, y_new = new.ravel()\n",
    "            x_old, y_old = old.ravel()\n",
    "\n",
    "            if y_old < line_y and y_new >= line_y:\n",
    "                people_counter += 1\n",
    "\n",
    "            mask = cv2.line(mask, (int(x_new), int(y_new)), (int(x_old), int(y_old)), (0, 255, 0), 2)\n",
    "            frame = cv2.circle(frame, (int(x_new), int(y_new)), 5, (0, 0, 255), -1)\n",
    "\n",
    "        frame = cv2.add(frame, mask)\n",
    "\n",
    " \n",
    "    cv2.line(frame, (0, line_y), (frame.shape[1], line_y), (255, 0, 0), 2)\n",
    "    cv2.putText(frame, f'Count: {people_counter}', (10, 50), font, 1, (0, 255, 255), 2)\n",
    "\n",
    "    cv2.imshow(\"Pedestrian Tracker\", frame)\n",
    "\n",
    "    key = cv2.waitKey(30) & 0xFF\n",
    "    if key == 27:\n",
    "        break\n",
    "\n",
    "    prev_gray = gray.copy()\n",
    "    prevPts = good_new.reshape(-1, 1, 2)\n",
    "\n",
    "cap.release()\n",
    "cv2.destroyAllWindows()"
   ]
  },
  {
   "cell_type": "code",
   "execution_count": null,
   "id": "17c0d370-3288-419a-a899-1b96ae67b8d2",
   "metadata": {},
   "outputs": [],
   "source": []
  }
 ],
 "metadata": {
  "kernelspec": {
   "display_name": "Python 3 (ipykernel)",
   "language": "python",
   "name": "python3"
  },
  "language_info": {
   "codemirror_mode": {
    "name": "ipython",
    "version": 3
   },
   "file_extension": ".py",
   "mimetype": "text/x-python",
   "name": "python",
   "nbconvert_exporter": "python",
   "pygments_lexer": "ipython3",
   "version": "3.12.3"
  }
 },
 "nbformat": 4,
 "nbformat_minor": 5
}
